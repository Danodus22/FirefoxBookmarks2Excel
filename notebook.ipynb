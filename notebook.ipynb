{
 "cells": [
  {
   "cell_type": "code",
   "execution_count": 1,
   "id": "7a35167f-e9ba-4996-8e31-a193e19b2188",
   "metadata": {},
   "outputs": [],
   "source": [
    "import json\n",
    "import pandas as pd\n",
    "from datetime import datetime, timezone"
   ]
  },
  {
   "cell_type": "markdown",
   "id": "d93674dd-d093-4776-ab8b-4935bf80f252",
   "metadata": {},
   "source": [
    "## First look at the structure of the bookmarks.json file"
   ]
  },
  {
   "cell_type": "code",
   "execution_count": null,
   "id": "ac867cb0-4a4c-4db8-9198-d0a3073c9d33",
   "metadata": {},
   "outputs": [],
   "source": [
    "# Path to the bookmarks.json file\n",
    "file_path = 'example_bookmarks.json'\n",
    "\n",
    "# Open file and load JSON data\n",
    "with open(file_path, 'r', encoding='utf-8') as file:\n",
    "    bookmarks_data = json.load(file)\n",
    "\n",
    "# Display JSON data\n",
    "print(json.dumps(bookmarks_data, indent=4, ensure_ascii=False))"
   ]
  },
  {
   "cell_type": "markdown",
   "id": "8282c40f-1b46-4e6b-b51c-e8d812b774d9",
   "metadata": {},
   "source": [
    "## Editing the bookmarks.json"
   ]
  },
  {
   "cell_type": "code",
   "execution_count": null,
   "id": "1828fa0d-d990-4cb8-a6f3-21bb15f0c109",
   "metadata": {},
   "outputs": [],
   "source": [
    "# Function for converting microseconds (Unix epoch) to datetime\n",
    "def convert_timestamp(timestamp):\n",
    "    # Convert microseconds to seconds\n",
    "    timestamp_in_seconds = timestamp / 1_000_000\n",
    "    # Create a datetime object with UTC time zone\n",
    "    return datetime.fromtimestamp(timestamp_in_seconds, tz=timezone.utc)\n",
    "\n",
    "# Function for recursive extraction of bookmarks, including the folder structure\n",
    "def extract_bookmarks_with_folder(bookmark_data, folder_path=''):\n",
    "    bookmarks_list = []\n",
    "    if isinstance(bookmark_data, list):\n",
    "        # If the data is a list (folder or bookmark)\n",
    "        for bookmark in bookmark_data:\n",
    "            bookmarks_list.extend(extract_bookmarks_with_folder(bookmark, folder_path))  # Recursion\n",
    "    elif isinstance(bookmark_data, dict):\n",
    "        # If it is a dictionary (e.g. a folder or bookmark)\n",
    "        if 'uri' in bookmark_data:  # If bookmarks have 'uri' and 'title'\n",
    "            # Add the full folder path to the bookmark\n",
    "            full_folder_path = folder_path.strip(' > ')  # Removing the last \" > \"\n",
    "            # Converting the timestamp to DateTime\n",
    "            date_added = convert_timestamp(bookmark_data.get('dateAdded', 0))\n",
    "            last_modified = convert_timestamp(bookmark_data.get('lastModified', 0))\n",
    "            # Include all desired fields in the dictionary\n",
    "            bookmarks_list.append({\n",
    "                'Title': bookmark_data['title'],\n",
    "                'URL': bookmark_data['uri'],\n",
    "                'Icon': bookmark_data.get('iconUri', ''),  # Optional icon field\n",
    "                'Date Added': date_added,\n",
    "                'Last Modified': last_modified,\n",
    "                'Folder Path': full_folder_path  # The folder path\n",
    "            })\n",
    "        # If there are 'children', continue recursively through the subfolders\n",
    "        if 'children' in bookmark_data:\n",
    "            # Add the current folder to the folder structure and continue recursively\n",
    "            new_folder_path = f\"{folder_path} > {bookmark_data['title']}\" if bookmark_data['title'] else folder_path\n",
    "            bookmarks_list.extend(extract_bookmarks_with_folder(bookmark_data['children'], new_folder_path))\n",
    "    return bookmarks_list\n",
    "\n",
    "# Path to the JSON file\n",
    "file_path = 'example_bookmarks.json'\n",
    "\n",
    "# Open file and load JSON data\n",
    "with open(file_path, 'r', encoding='utf-8') as file:\n",
    "    bookmarks_data = json.load(file)\n",
    "\n",
    "# Recursive extraction of bookmarks with folder path\n",
    "bookmarks_list = extract_bookmarks_with_folder(bookmarks_data)\n",
    "\n",
    "# Check whether bookmarks have been extracted\n",
    "if bookmarks_list:\n",
    "    # Create the DataFrame\n",
    "    df = pd.DataFrame(bookmarks_list)\n",
    "    print(f'DataFrame erfolgreich erstellt!')\n",
    "else:\n",
    "    print(\"Keine Lesezeichen gefunden!\")"
   ]
  },
  {
   "cell_type": "code",
   "execution_count": null,
   "id": "d1667973",
   "metadata": {},
   "outputs": [],
   "source": [
    "# Show created DataFrame\n",
    "df"
   ]
  },
  {
   "cell_type": "code",
   "execution_count": 5,
   "id": "4bad4f65-abae-4cff-a375-e6baae895020",
   "metadata": {},
   "outputs": [],
   "source": [
    "# Remove the time zone information from the date values (only for Excel)\n",
    "df['Date Added'] = df['Date Added'].dt.tz_localize(None)\n",
    "df['Last Modified'] = df['Last Modified'].dt.tz_localize(None)"
   ]
  },
  {
   "cell_type": "markdown",
   "id": "ede74a78-274c-47ce-869f-414c33f5be14",
   "metadata": {},
   "source": [
    "## Save DataFrame in an Excel file"
   ]
  },
  {
   "cell_type": "code",
   "execution_count": null,
   "id": "1865f426-fcc7-4324-85ed-bba500a69f75",
   "metadata": {},
   "outputs": [],
   "source": [
    "# Export the DataFrame to Excel\n",
    "output_file_path = 'example_bookmarks.xlsx'\n",
    "df.to_excel(output_file_path, index=False)  # index=False to not save the index column\n",
    "\n",
    "if output_file_path:\n",
    "    print(f'DataFrame erfolgreich nach {output_file_path} exportiert!')\n",
    "else:\n",
    "    print(\"Keine Lesezeichen gefunden!\")"
   ]
  }
 ],
 "metadata": {
  "kernelspec": {
   "display_name": "Python 3 (ipykernel)",
   "language": "python",
   "name": "python3"
  },
  "language_info": {
   "codemirror_mode": {
    "name": "ipython",
    "version": 3
   },
   "file_extension": ".py",
   "mimetype": "text/x-python",
   "name": "python",
   "nbconvert_exporter": "python",
   "pygments_lexer": "ipython3",
   "version": "3.12.7"
  }
 },
 "nbformat": 4,
 "nbformat_minor": 5
}
