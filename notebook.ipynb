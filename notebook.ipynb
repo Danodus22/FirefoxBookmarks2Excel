{
 "cells": [
  {
   "cell_type": "code",
   "execution_count": 1,
   "id": "7a35167f-e9ba-4996-8e31-a193e19b2188",
   "metadata": {},
   "outputs": [],
   "source": [
    "import json\n",
    "import pandas as pd\n",
    "from datetime import datetime, timezone"
   ]
  },
  {
   "cell_type": "markdown",
   "id": "d93674dd-d093-4776-ab8b-4935bf80f252",
   "metadata": {},
   "source": [
    "## Erster Blick auf die Struktur der bookmarks.json Datei"
   ]
  },
  {
   "cell_type": "code",
   "execution_count": null,
   "id": "ac867cb0-4a4c-4db8-9198-d0a3073c9d33",
   "metadata": {},
   "outputs": [],
   "source": [
    "# Pfad zur bookmarks.json-Datei\n",
    "file_path = 'example_bookmarks.json'\n",
    "\n",
    "# Datei öffnen und JSON-Daten laden\n",
    "with open(file_path, 'r', encoding='utf-8') as file:\n",
    "    bookmarks_data = json.load(file)\n",
    "\n",
    "# JSON-Daten anzeigen\n",
    "print(json.dumps(bookmarks_data, indent=4, ensure_ascii=False))"
   ]
  },
  {
   "cell_type": "markdown",
   "id": "8282c40f-1b46-4e6b-b51c-e8d812b774d9",
   "metadata": {},
   "source": [
    "## Bearbeiten der bookmarks.json"
   ]
  },
  {
   "cell_type": "code",
   "execution_count": null,
   "id": "1828fa0d-d990-4cb8-a6f3-21bb15f0c109",
   "metadata": {},
   "outputs": [],
   "source": [
    "# Funktion zur Umrechnung von Mikrosekunden (Unix-Epoch) in datetime\n",
    "def convert_timestamp(timestamp):\n",
    "    # Umrechnung von Mikrosekunden in Sekunden\n",
    "    timestamp_in_seconds = timestamp / 1_000_000\n",
    "    # Erstelle ein datetime-Objekt mit UTC-Zeitzone\n",
    "    return datetime.fromtimestamp(timestamp_in_seconds, tz=timezone.utc)\n",
    "\n",
    "# Funktion zur rekursiven Extraktion der Lesezeichen, einschließlich der Ordnerstruktur\n",
    "def extract_bookmarks_with_folder(bookmark_data, folder_path=''):\n",
    "    bookmarks_list = []\n",
    "    if isinstance(bookmark_data, list):\n",
    "        # Wenn die Daten eine Liste sind (Ordner oder Lesezeichen)\n",
    "        for bookmark in bookmark_data:\n",
    "            bookmarks_list.extend(extract_bookmarks_with_folder(bookmark, folder_path))  # Rekursion\n",
    "    elif isinstance(bookmark_data, dict):\n",
    "        # Wenn es ein Dictionary ist (z.B. ein Ordner oder Lesezeichen)\n",
    "        if 'uri' in bookmark_data:  # Lesezeichen haben 'uri' und 'title'\n",
    "            # Den vollständigen Ordnerpfad zum Lesezeichen hinzufügen\n",
    "            full_folder_path = folder_path.strip(' > ')  # Entfernen des letzten \" > \"\n",
    "            # Umwandeln der Zeitstempel in DateTime\n",
    "            date_added = convert_timestamp(bookmark_data.get('dateAdded', 0))\n",
    "            last_modified = convert_timestamp(bookmark_data.get('lastModified', 0))\n",
    "            # Alle gewünschten Felder ins Dictionary aufnehmen\n",
    "            bookmarks_list.append({\n",
    "                'Title': bookmark_data['title'],\n",
    "                'URL': bookmark_data['uri'],\n",
    "                'Icon': bookmark_data.get('iconUri', ''),  # Optionales Icon-Feld\n",
    "                'Date Added': date_added,\n",
    "                'Last Modified': last_modified,\n",
    "                'Folder Path': full_folder_path  # Der Ordnerpfad\n",
    "            })\n",
    "        # Falls es 'children' gibt, gehe weiter rekursiv durch die Unterordner\n",
    "        if 'children' in bookmark_data:\n",
    "            # Füge den aktuellen Ordner zur Ordnerstruktur hinzu und gehe rekursiv weiter\n",
    "            new_folder_path = f\"{folder_path} > {bookmark_data['title']}\" if bookmark_data['title'] else folder_path\n",
    "            bookmarks_list.extend(extract_bookmarks_with_folder(bookmark_data['children'], new_folder_path))\n",
    "    return bookmarks_list\n",
    "\n",
    "# Pfad zur JSON-Datei\n",
    "file_path = 'example_bookmarks.json'\n",
    "\n",
    "# Datei öffnen und JSON-Daten laden\n",
    "with open(file_path, 'r', encoding='utf-8') as file:\n",
    "    bookmarks_data = json.load(file)\n",
    "\n",
    "# Rekursive Extraktion der Lesezeichen mit Ordnerpfad\n",
    "bookmarks_list = extract_bookmarks_with_folder(bookmarks_data)\n",
    "\n",
    "# Überprüfen, ob Lesezeichen extrahiert wurden\n",
    "if bookmarks_list:\n",
    "    # Erstelle das DataFrame\n",
    "    df = pd.DataFrame(bookmarks_list)\n",
    "    print(f'DataFrame erfolgreich erstellt!')\n",
    "else:\n",
    "    print(\"Keine Lesezeichen gefunden!\")"
   ]
  },
  {
   "cell_type": "code",
   "execution_count": null,
   "id": "d1667973",
   "metadata": {},
   "outputs": [],
   "source": [
    "# Erstellten DataFrame anzeigen\n",
    "df"
   ]
  },
  {
   "cell_type": "code",
   "execution_count": 5,
   "id": "4bad4f65-abae-4cff-a375-e6baae895020",
   "metadata": {},
   "outputs": [],
   "source": [
    "# Entfernen der Zeitzoneninformationen von den Datumswerten\n",
    "df['Date Added'] = df['Date Added'].dt.tz_localize(None)\n",
    "df['Last Modified'] = df['Last Modified'].dt.tz_localize(None)"
   ]
  },
  {
   "cell_type": "markdown",
   "id": "ede74a78-274c-47ce-869f-414c33f5be14",
   "metadata": {},
   "source": [
    "## DataFrame in einer Excel-Datei speichern"
   ]
  },
  {
   "cell_type": "code",
   "execution_count": null,
   "id": "1865f426-fcc7-4324-85ed-bba500a69f75",
   "metadata": {},
   "outputs": [],
   "source": [
    "# Exportiere das DataFrame nach Excel\n",
    "output_file_path = 'example_bookmarks.xlsx'\n",
    "df.to_excel(output_file_path, index=False)  # index=False, um die Index-Spalte nicht mitzuspeichern\n",
    "\n",
    "if output_file_path:\n",
    "    print(f'DataFrame erfolgreich nach {output_file_path} exportiert!')\n",
    "else:\n",
    "    print(\"Keine Lesezeichen gefunden!\")"
   ]
  }
 ],
 "metadata": {
  "kernelspec": {
   "display_name": "base",
   "language": "python",
   "name": "python3"
  },
  "language_info": {
   "codemirror_mode": {
    "name": "ipython",
    "version": 3
   },
   "file_extension": ".py",
   "mimetype": "text/x-python",
   "name": "python",
   "nbconvert_exporter": "python",
   "pygments_lexer": "ipython3",
   "version": "3.12.7"
  }
 },
 "nbformat": 4,
 "nbformat_minor": 5
}
